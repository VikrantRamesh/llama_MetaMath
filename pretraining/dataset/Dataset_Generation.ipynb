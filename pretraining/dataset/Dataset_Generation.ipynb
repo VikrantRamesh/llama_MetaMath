{
  "nbformat": 4,
  "nbformat_minor": 0,
  "metadata": {
    "colab": {
      "provenance": []
    },
    "kernelspec": {
      "name": "python3",
      "display_name": "Python 3"
    },
    "language_info": {
      "name": "python"
    }
  },
  "cells": [
    {
      "cell_type": "code",
      "execution_count": 17,
      "metadata": {
        "id": "G_VVGwF7JSHN"
      },
      "outputs": [],
      "source": [
        "import requests\n",
        "from bs4 import BeautifulSoup\n",
        "import os\n",
        "import csv"
      ]
    },
    {
      "cell_type": "code",
      "source": [
        "# Function to scrape website and extract tags and content\n",
        "def scrape_website(url):\n",
        "    # Send a GET request to the URL\n",
        "    response = requests.get(url)\n",
        "\n",
        "\n",
        "    # Check if CSV file exists, if not create one\n",
        "    csv_filename = 'dataset.csv'\n",
        "    csv_exists = os.path.isfile(csv_filename)\n",
        "    fieldnames = ['tag_content']\n",
        "\n",
        "\n",
        "\n",
        "\n",
        "    # Check if request was successful\n",
        "    if response.status_code == 200:\n",
        "        # Parse the HTML content\n",
        "        soup = BeautifulSoup(response.text, 'html.parser')\n",
        "\n",
        "        # Find the body tag\n",
        "        div_tag = soup.find('div', class_='text')\n",
        "\n",
        "        # Initialize a list to store tags and their content\n",
        "        tags_and_content = []\n",
        "\n",
        "        with open(csv_filename, 'a', newline='', encoding='utf-8') as csvfile:\n",
        "\n",
        "            writer = csv.DictWriter(csvfile, fieldnames=fieldnames)\n",
        "            # If CSV file doesn't exist, write the header\n",
        "            if not csv_exists:\n",
        "                writer.writeheader()\n",
        "\n",
        "            for tag in div_tag.find_all(recursive=False):\n",
        "                tag_name = tag.name\n",
        "                tag_content = tag.text.strip()\n",
        "                tag_content = tag_content.replace(u'\\xa0', u' ')\n",
        "\n",
        "                if tag_name == 'p':\n",
        "                    writer.writerow({'tag_content': tag_content})\n",
        "    else:\n",
        "        # Print an error message if request was unsuccessful\n",
        "        print(\"Failed to retrieve webpage\")\n",
        "        return None"
      ],
      "metadata": {
        "id": "Jx2iBOWMJyw_"
      },
      "execution_count": 37,
      "outputs": []
    },
    {
      "cell_type": "markdown",
      "source": [
        "### Getting the urls to induvidual pages"
      ],
      "metadata": {
        "id": "peinC98CRZfP"
      }
    },
    {
      "cell_type": "code",
      "source": [
        "import requests\n",
        "from bs4 import BeautifulSoup\n",
        "\n",
        "# URL of the webpage\n",
        "url = \"https://www.geeksforgeeks.org/computer-network-tutorials/\"\n",
        "\n",
        "# Send a GET request to the webpage\n",
        "response = requests.get(url)\n",
        "\n",
        "# Check if request was successful\n",
        "if response.status_code == 200:\n",
        "    # Parse the HTML content\n",
        "    soup = BeautifulSoup(response.content, 'html.parser')\n",
        "\n",
        "    # Find all <li> tags\n",
        "    li_tags = soup.find_all('li')\n",
        "\n",
        "    # Initialize a list to store href values\n",
        "    href_values = []\n",
        "\n",
        "    # Iterate through each <li> tag\n",
        "    for li_tag in li_tags:\n",
        "        # Find all <a> tags inside the <li> tag\n",
        "        anchor_tags = li_tag.find_all('a')\n",
        "\n",
        "        # Iterate through each <a> tag\n",
        "        for anchor_tag in anchor_tags:\n",
        "            # Get the value of the href attribute\n",
        "            href = anchor_tag.get('href')\n",
        "\n",
        "            # Append href value to the list\n",
        "            if href:\n",
        "                href_values.append(href)\n",
        "\n",
        "    # Print the href values\n",
        "    print(\"List of href values:\")\n",
        "\n",
        "    #Manually selecting required tags:\n",
        "    href_values = href_values[1909:2080]\n",
        "\n",
        "    for href_value in href_values:\n",
        "        print(href_value)\n",
        "else:\n",
        "    print(\"Failed to fetch the webpage.\")"
      ],
      "metadata": {
        "colab": {
          "base_uri": "https://localhost:8080/"
        },
        "id": "_4yie34jRad0",
        "outputId": "bfabd99d-6fdd-41e5-fb72-81214ff8b901"
      },
      "execution_count": 47,
      "outputs": [
        {
          "output_type": "stream",
          "name": "stdout",
          "text": [
            "List of href values:\n",
            "https://www.geeksforgeeks.org/basics-computer-networking/\n",
            "https://www.geeksforgeeks.org/the-internet-and-the-web/\n",
            "https://www.geeksforgeeks.org/internet-and-web-programming-behind-the-scenes/\n",
            "https://www.geeksforgeeks.org/the-new-internet-internet-of-everything/\n",
            "https://www.geeksforgeeks.org/unknown-facts-of-networking/\n",
            "https://www.geeksforgeeks.org/computer-network-network-goals/\n",
            "https://www.geeksforgeeks.org/line-configuration-computer-networks/\n",
            "https://www.geeksforgeeks.org/transmission-modes-computer-networks/\n",
            "https://www.geeksforgeeks.org/types-transmission-media/\n",
            "https://www.geeksforgeeks.org/computer-network-difference-unicast-broadcast-multicast/\n",
            "https://www.geeksforgeeks.org/introduction-to-basic-networking-terminology/\n",
            "https://www.geeksforgeeks.org/network-topologies-computer-networks/\n",
            "https://www.geeksforgeeks.org/computer-network-types-area-networks-lan-man-wan/\n",
            "https://www.geeksforgeeks.org/telecom-networks/\n",
            "https://www.geeksforgeeks.org/computer-network-access-networks/\n",
            "https://www.geeksforgeeks.org/computer-network-tcpip-model/\n",
            "https://www.geeksforgeeks.org/layers-osi-model/\n",
            "https://www.geeksforgeeks.org/introduction-to-active-directory-domain-services/\n",
            "https://www.geeksforgeeks.org/advantages-and-disadvantages-of-computer-networking/\n",
            "https://www.geeksforgeeks.org/internet-and-web-programming-behind-the-scenes/\n",
            "https://www.geeksforgeeks.org/the-new-internet-internet-of-everything/\n",
            "https://www.geeksforgeeks.org/unknown-facts-of-networking/\n",
            "https://www.geeksforgeeks.org/computer-network-network-goals/\n",
            "https://www.geeksforgeeks.org/line-configuration-computer-networks/\n",
            "https://www.geeksforgeeks.org/transmission-modes-computer-networks/\n",
            "https://www.geeksforgeeks.org/types-transmission-media/\n",
            "https://www.geeksforgeeks.org/computer-network-difference-unicast-broadcast-multicast/\n",
            "https://www.geeksforgeeks.org/introduction-to-basic-networking-terminology/\n",
            "https://www.geeksforgeeks.org/network-topologies-computer-networks/\n",
            "https://www.geeksforgeeks.org/computer-network-types-area-networks-lan-man-wan/\n",
            "https://www.geeksforgeeks.org/telecom-networks/\n",
            "https://www.geeksforgeeks.org/computer-network-access-networks/\n",
            "https://www.geeksforgeeks.org/computer-network-tcpip-model/\n",
            "https://www.geeksforgeeks.org/layers-osi-model/\n",
            "https://www.geeksforgeeks.org/introduction-to-active-directory-domain-services/\n",
            "https://www.geeksforgeeks.org/advantages-and-disadvantages-of-computer-networking/\n",
            "https://www.geeksforgeeks.org/the-new-internet-internet-of-everything/\n",
            "https://www.geeksforgeeks.org/unknown-facts-of-networking/\n",
            "https://www.geeksforgeeks.org/computer-network-network-goals/\n",
            "https://www.geeksforgeeks.org/line-configuration-computer-networks/\n",
            "https://www.geeksforgeeks.org/transmission-modes-computer-networks/\n",
            "https://www.geeksforgeeks.org/types-transmission-media/\n",
            "https://www.geeksforgeeks.org/computer-network-difference-unicast-broadcast-multicast/\n",
            "https://www.geeksforgeeks.org/introduction-to-basic-networking-terminology/\n",
            "https://www.geeksforgeeks.org/network-topologies-computer-networks/\n",
            "https://www.geeksforgeeks.org/computer-network-types-area-networks-lan-man-wan/\n",
            "https://www.geeksforgeeks.org/telecom-networks/\n",
            "https://www.geeksforgeeks.org/computer-network-access-networks/\n",
            "https://www.geeksforgeeks.org/computer-network-tcpip-model/\n",
            "https://www.geeksforgeeks.org/layers-osi-model/\n",
            "https://www.geeksforgeeks.org/introduction-to-active-directory-domain-services/\n",
            "https://www.geeksforgeeks.org/advantages-and-disadvantages-of-computer-networking/\n",
            "https://www.geeksforgeeks.org/unknown-facts-of-networking/\n",
            "https://www.geeksforgeeks.org/computer-network-network-goals/\n",
            "https://www.geeksforgeeks.org/line-configuration-computer-networks/\n",
            "https://www.geeksforgeeks.org/transmission-modes-computer-networks/\n",
            "https://www.geeksforgeeks.org/types-transmission-media/\n",
            "https://www.geeksforgeeks.org/computer-network-difference-unicast-broadcast-multicast/\n",
            "https://www.geeksforgeeks.org/introduction-to-basic-networking-terminology/\n",
            "https://www.geeksforgeeks.org/network-topologies-computer-networks/\n",
            "https://www.geeksforgeeks.org/computer-network-types-area-networks-lan-man-wan/\n",
            "https://www.geeksforgeeks.org/telecom-networks/\n",
            "https://www.geeksforgeeks.org/computer-network-access-networks/\n",
            "https://www.geeksforgeeks.org/computer-network-tcpip-model/\n",
            "https://www.geeksforgeeks.org/layers-osi-model/\n",
            "https://www.geeksforgeeks.org/introduction-to-active-directory-domain-services/\n",
            "https://www.geeksforgeeks.org/advantages-and-disadvantages-of-computer-networking/\n",
            "https://www.geeksforgeeks.org/computer-network-network-goals/\n",
            "https://www.geeksforgeeks.org/line-configuration-computer-networks/\n",
            "https://www.geeksforgeeks.org/transmission-modes-computer-networks/\n",
            "https://www.geeksforgeeks.org/types-transmission-media/\n",
            "https://www.geeksforgeeks.org/computer-network-difference-unicast-broadcast-multicast/\n",
            "https://www.geeksforgeeks.org/introduction-to-basic-networking-terminology/\n",
            "https://www.geeksforgeeks.org/network-topologies-computer-networks/\n",
            "https://www.geeksforgeeks.org/computer-network-types-area-networks-lan-man-wan/\n",
            "https://www.geeksforgeeks.org/telecom-networks/\n",
            "https://www.geeksforgeeks.org/computer-network-access-networks/\n",
            "https://www.geeksforgeeks.org/computer-network-tcpip-model/\n",
            "https://www.geeksforgeeks.org/layers-osi-model/\n",
            "https://www.geeksforgeeks.org/introduction-to-active-directory-domain-services/\n",
            "https://www.geeksforgeeks.org/advantages-and-disadvantages-of-computer-networking/\n",
            "https://www.geeksforgeeks.org/line-configuration-computer-networks/\n",
            "https://www.geeksforgeeks.org/transmission-modes-computer-networks/\n",
            "https://www.geeksforgeeks.org/types-transmission-media/\n",
            "https://www.geeksforgeeks.org/computer-network-difference-unicast-broadcast-multicast/\n",
            "https://www.geeksforgeeks.org/introduction-to-basic-networking-terminology/\n",
            "https://www.geeksforgeeks.org/network-topologies-computer-networks/\n",
            "https://www.geeksforgeeks.org/computer-network-types-area-networks-lan-man-wan/\n",
            "https://www.geeksforgeeks.org/telecom-networks/\n",
            "https://www.geeksforgeeks.org/computer-network-access-networks/\n",
            "https://www.geeksforgeeks.org/computer-network-tcpip-model/\n",
            "https://www.geeksforgeeks.org/layers-osi-model/\n",
            "https://www.geeksforgeeks.org/introduction-to-active-directory-domain-services/\n",
            "https://www.geeksforgeeks.org/advantages-and-disadvantages-of-computer-networking/\n",
            "https://www.geeksforgeeks.org/computer-network-access-networks/\n",
            "https://www.geeksforgeeks.org/computer-network-tcpip-model/\n",
            "https://www.geeksforgeeks.org/layers-osi-model/\n",
            "https://www.geeksforgeeks.org/introduction-to-active-directory-domain-services/\n",
            "https://www.geeksforgeeks.org/advantages-and-disadvantages-of-computer-networking/\n",
            "https://www.geeksforgeeks.org/computer-network-tcpip-model/\n",
            "https://www.geeksforgeeks.org/layers-osi-model/\n",
            "https://www.geeksforgeeks.org/introduction-to-active-directory-domain-services/\n",
            "https://www.geeksforgeeks.org/advantages-and-disadvantages-of-computer-networking/\n",
            "https://www.geeksforgeeks.org/advantages-and-disadvantages-of-computer-networking/\n",
            "https://www.geeksforgeeks.org/local-area-network-lan-technologies/\n",
            "https://www.geeksforgeeks.org/computer-network-bridges-local-internetworking-device/\n",
            "https://www.geeksforgeeks.org/computer-networks-internetworking/\n",
            "https://www.geeksforgeeks.org/computer-network-framing-data-link-layer/\n",
            "https://www.geeksforgeeks.org/computer-network-introduction-mac-address/\n",
            "https://www.geeksforgeeks.org/computer-network-mac-filtering/\n",
            "https://www.geeksforgeeks.org/computer-network-multiple-access-protocols/\n",
            "https://www.geeksforgeeks.org/computer-network-ethernet-frame-format/\n",
            "https://www.geeksforgeeks.org/computer-network-etherchannel/\n",
            "https://www.geeksforgeeks.org/computer-network-difference-byte-stuffing-bit-stuffing/\n",
            "https://www.geeksforgeeks.org/computer-networks-implementing-byte-stuffing-using-java/\n",
            "https://www.geeksforgeeks.org/computer-network-circuit-switching/\n",
            "https://www.geeksforgeeks.org/computer-network-packet-switching-delays/\n",
            "https://www.geeksforgeeks.org/computer-network-circuit-switching-vs-packet-switching/\n",
            "https://www.geeksforgeeks.org/differences-between-virtual-circuits-datagram-networks/\n",
            "https://www.geeksforgeeks.org/computer-network-switching-techniques-message-switching/\n",
            "https://www.geeksforgeeks.org/computer-network-types-of-switches/\n",
            "https://www.geeksforgeeks.org/computer-network-maximum-data-rate-channel-capacity-noiseless-noisy-channels/\n",
            "https://www.geeksforgeeks.org/computer-network-hot-spot-2-0/\n",
            "https://www.geeksforgeeks.org/computer-network-collision-avoidance-wireless-networks/\n",
            "https://www.geeksforgeeks.org/traditional-wireless-mobile-communication/\n",
            "https://www.geeksforgeeks.org/computer-network-carrier-sense-multiple-access-csma/\n",
            "https://www.geeksforgeeks.org/collision-detection-csmacd/\n",
            "https://www.geeksforgeeks.org/computer-network-efficiency-csmacd/\n",
            "https://www.geeksforgeeks.org/back-off-algorithm-csmacd/\n",
            "https://www.geeksforgeeks.org/computer-network-controlled-access-protocols/\n",
            "https://www.geeksforgeeks.org/virtual-lan-vlan/\n",
            "https://www.geeksforgeeks.org/inter-vlan-routing-layer-3-switch/\n",
            "https://www.geeksforgeeks.org/computer-network-private-vlan/\n",
            "https://www.geeksforgeeks.org/computer-network-vlan-acl-vacl/\n",
            "https://www.geeksforgeeks.org/access-trunk-ports/\n",
            "https://www.geeksforgeeks.org/computer-network-role-based-access-control/\n",
            "https://www.geeksforgeeks.org/computer-network-port-security/\n",
            "https://www.geeksforgeeks.org/inter-switch-link-isl-ieee-802-1q/\n",
            "https://www.geeksforgeeks.org/computer-network-dynamic-trunking-protocol-dtp/\n",
            "https://www.geeksforgeeks.org/sliding-window-protocol-set-1/\n",
            "https://www.geeksforgeeks.org/sliding-window-protocol-set-2-receiver-side/\n",
            "https://www.geeksforgeeks.org/sliding-window-protocol-set-3-selective-repeat/\n",
            "https://www.geeksforgeeks.org/sliding-window-protocols-summary-questions/\n",
            "https://www.geeksforgeeks.org/stop-and-wait-arq/\n",
            "https://www.geeksforgeeks.org/difference-between-stop-and-wait-gobackn-and-selective-repeat/\n",
            "https://www.geeksforgeeks.org/computer-network-manchester-encoding/\n",
            "https://www.geeksforgeeks.org/error-detection-computer-networks/\n",
            "https://www.geeksforgeeks.org/computer-network-hamming-code/\n",
            "https://www.geeksforgeeks.org/program-remotely-power-pc-internet-using-wake-lan-protocol/\n",
            "https://www.geeksforgeeks.org/basics-of-wi-fi/\n",
            "https://www.geeksforgeeks.org/ieee-802-11-mac-frame/\n",
            "https://www.geeksforgeeks.org/computer-network-efficiency-token-ring/\n",
            "https://www.geeksforgeeks.org/computer-network-token-bus-ieee-802-4/\n",
            "https://www.geeksforgeeks.org/computer-network-multiplexing-channel-sharing/\n",
            "https://www.geeksforgeeks.org/computer-network-frequency-division-and-time-division-multiplexing/\n",
            "https://www.geeksforgeeks.org/computer-networks-internetworking/\n",
            "https://www.geeksforgeeks.org/computer-network-framing-data-link-layer/\n",
            "https://www.geeksforgeeks.org/computer-network-introduction-mac-address/\n",
            "https://www.geeksforgeeks.org/computer-network-mac-filtering/\n",
            "https://www.geeksforgeeks.org/computer-network-multiple-access-protocols/\n",
            "https://www.geeksforgeeks.org/computer-network-ethernet-frame-format/\n",
            "https://www.geeksforgeeks.org/computer-network-etherchannel/\n",
            "https://www.geeksforgeeks.org/computer-network-difference-byte-stuffing-bit-stuffing/\n",
            "https://www.geeksforgeeks.org/computer-networks-implementing-byte-stuffing-using-java/\n",
            "https://www.geeksforgeeks.org/computer-network-circuit-switching/\n",
            "https://www.geeksforgeeks.org/computer-network-packet-switching-delays/\n",
            "https://www.geeksforgeeks.org/computer-network-circuit-switching-vs-packet-switching/\n",
            "https://www.geeksforgeeks.org/differences-between-virtual-circuits-datagram-networks/\n",
            "https://www.geeksforgeeks.org/computer-network-switching-techniques-message-switching/\n",
            "https://www.geeksforgeeks.org/computer-network-types-of-switches/\n",
            "https://www.geeksforgeeks.org/computer-network-maximum-data-rate-channel-capacity-noiseless-noisy-channels/\n"
          ]
        }
      ]
    },
    {
      "cell_type": "code",
      "source": [
        "# href_values.index(\"https://www.geeksforgeeks.org/type-c-port-in-computer-network/\")"
      ],
      "metadata": {
        "colab": {
          "base_uri": "https://localhost:8080/"
        },
        "id": "f5fDsk16SQB-",
        "outputId": "e0f5597c-fa0d-461e-850a-17b866aa0528"
      },
      "execution_count": 46,
      "outputs": [
        {
          "output_type": "execute_result",
          "data": {
            "text/plain": [
              "2080"
            ]
          },
          "metadata": {},
          "execution_count": 46
        }
      ]
    },
    {
      "cell_type": "code",
      "source": [
        "href_values = list(set(href_values))\n",
        "len(href_values)"
      ],
      "metadata": {
        "colab": {
          "base_uri": "https://localhost:8080/"
        },
        "id": "197FtX8-TN7D",
        "outputId": "2fc89d6a-c719-489e-a8d2-982d5ee3d0cd"
      },
      "execution_count": 50,
      "outputs": [
        {
          "output_type": "execute_result",
          "data": {
            "text/plain": [
              "70"
            ]
          },
          "metadata": {},
          "execution_count": 50
        }
      ]
    },
    {
      "cell_type": "code",
      "source": [
        "from tqdm import tqdm\n",
        "\n",
        "for url in tqdm(href_values, desc=\"Scraping Websites\", unit=\" website\"):\n",
        "    scrape_website(url)"
      ],
      "metadata": {
        "colab": {
          "base_uri": "https://localhost:8080/"
        },
        "id": "awJVuXaTJ4J-",
        "outputId": "34d2f879-e656-4a16-bd43-1e83c77bc2dd"
      },
      "execution_count": 52,
      "outputs": [
        {
          "output_type": "stream",
          "name": "stderr",
          "text": [
            "Scraping Websites: 100%|██████████| 70/70 [00:30<00:00,  2.27 website/s]\n"
          ]
        }
      ]
    },
    {
      "cell_type": "markdown",
      "source": [
        "### Data Cleaning"
      ],
      "metadata": {
        "id": "UVIfr1DnUSDH"
      }
    },
    {
      "cell_type": "code",
      "source": [
        "import csv\n",
        "\n",
        "def clean_csv(input_file, output_file):\n",
        "\n",
        "    with open(input_file, 'r', newline='', encoding='utf-8') as infile:\n",
        "        reader = csv.reader(infile)\n",
        "\n",
        "        with open(output_file, 'w', newline='', encoding='utf-8') as outfile:\n",
        "            writer = csv.writer(outfile)\n",
        "            for row in reader:\n",
        "\n",
        "                cleaned_row = [cell.strip().split() for cell in row if cell.strip()]\n",
        "                if len(cleaned_row)!=0 and len(cleaned_row[0]) >= 10:\n",
        "                    writer.writerow(row)\n",
        "\n",
        "# Example usage:\n",
        "input_file = 'dataset.csv'\n",
        "output_file = 'dataset_cleaned.csv'\n",
        "clean_csv(input_file, output_file)"
      ],
      "metadata": {
        "id": "wTHdOFvpKY7J"
      },
      "execution_count": 68,
      "outputs": []
    },
    {
      "cell_type": "code",
      "source": [],
      "metadata": {
        "id": "GOTZZ-QBUYAZ"
      },
      "execution_count": null,
      "outputs": []
    }
  ]
}